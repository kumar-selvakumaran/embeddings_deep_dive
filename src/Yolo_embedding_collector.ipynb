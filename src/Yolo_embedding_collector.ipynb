{
  "cells": [
    {
      "cell_type": "markdown",
      "metadata": {},
      "source": [
        "## Setup\n"
      ]
    },
    {
      "cell_type": "code",
      "execution_count": null,
      "metadata": {},
      "outputs": [],
      "source": [
        "# # !git clone https://github.com/eriklindernoren/PyTorch-YOLOv3\n",
        "# # %cd PyTorch-YOLOv3/\n",
        "# # !pip3 install poetry --user\n",
        "# # !poetry install\n",
        "# # !./weights/download_weights.sh\n",
        "# # !pip3 install pytorchyolo --user\n",
        "# # !poetry run yolo-test --weights weights/yolov3.weights\n",
        "\n",
        "# !pip uninstall -y torch torchvision\n",
        "# !pip install torch==1.12.1+cu116 torchvision==0.13.1+cu116 torchaudio==0.12.1 --extra-index-url https://download.pytorch.org/whl/cu116"
      ]
    },
    {
      "cell_type": "markdown",
      "metadata": {},
      "source": [
        "## Loading the yoloV3 model"
      ]
    },
    {
      "cell_type": "code",
      "execution_count": 1,
      "metadata": {},
      "outputs": [],
      "source": [
        "from utils.yolo_utils import yolo_model\n",
        "from utils.viz_utils import draw_bounding_boxes\n",
        "\n",
        "\n",
        "test_yolo = yolo_model()"
      ]
    },
    {
      "cell_type": "markdown",
      "metadata": {},
      "source": [
        "## Loading images, Doing inference, Isolating object-specific embedding Slices, saving resulting embedddings and relevant details as pickle files"
      ]
    },
    {
      "cell_type": "code",
      "execution_count": 3,
      "metadata": {},
      "outputs": [
        {
          "name": "stdout",
          "output_type": "stream",
          "text": [
            " object embedding_locations : [[5 5 8 8]]\n",
            " object embedding_locations : [[5 5 8 8]]\n",
            " object embedding_locations : [[5 5 8 8]]\n",
            " object embedding_locations : [[2 2 5 5]]\n",
            " object embedding_locations : [[ 2  3  5  6]\n",
            " [ 8  4 11  7]\n",
            " [ 4  3  7  6]\n",
            " [ 5  6  8  9]]\n",
            " object embedding_locations : [[ 6  4  9  7]\n",
            " [ 5  9  8 12]]\n",
            " object embedding_locations : [[6 3 9 6]]\n",
            " object embedding_locations : [[5 5 8 8]]\n",
            " object embedding_locations : [[6 6 9 9]]\n",
            "releasing video\n",
            "\n",
            "saved file name : 3c94b82dfec85ea088126f4d76111bc6_yolo_numims_9_embwin_3\n",
            "\n"
          ]
        }
      ],
      "source": [
        "import os\n",
        "\n",
        "img_size=416\n",
        "conf_thres=0.5\n",
        "nms_thres=0.01\n",
        "\n",
        "image_paths = [os.path.join(\"/app/data/images/embedding_tester/\", im_name) for im_name in os.listdir(\"/app/data/images/embedding_tester/\")]\n",
        "# img = cv2.imread(\"/app/data/images/embedding_tester/apple_3.jpg\")\n",
        "\n",
        "embedding_list = []\n",
        "embedding_details, embeddings_matrix = test_yolo.get_embeddings(image_paths[:20],\n",
        "            img_size=img_size,\n",
        "            conf_thres=conf_thres,\n",
        "            nms_thres=nms_thres,\n",
        "            head = 0,\n",
        "            embedding_window_size = 3,\n",
        "            viz = False)"
      ]
    }
  ],
  "metadata": {
    "colab": {
      "provenance": []
    },
    "kernelspec": {
      "display_name": "Python 3",
      "name": "python3"
    },
    "language_info": {
      "codemirror_mode": {
        "name": "ipython",
        "version": 3
      },
      "file_extension": ".py",
      "mimetype": "text/x-python",
      "name": "python",
      "nbconvert_exporter": "python",
      "pygments_lexer": "ipython3",
      "version": "3.7.11"
    }
  },
  "nbformat": 4,
  "nbformat_minor": 0
}
