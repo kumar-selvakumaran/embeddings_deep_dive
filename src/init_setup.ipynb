{
 "cells": [
  {
   "cell_type": "markdown",
   "id": "9173aeac",
   "metadata": {},
   "source": [
    "author = \"Kumar Selvakumaran\", \"Mrudula Acharya\", \"Neel Adke\"<br>\n",
    "date = \"04/24/2024\"<br>\n",
    "\n",
    "This notebook, does the required initial setup (first time) "
   ]
  },
  {
   "cell_type": "markdown",
   "id": "4a851c7e",
   "metadata": {},
   "source": [
    "# essential Downloads, 1 time after creation of environment"
   ]
  },
  {
   "cell_type": "code",
   "execution_count": 1,
   "id": "b5d0463f",
   "metadata": {},
   "outputs": [],
   "source": [
    "# %cd {HOME}\n",
    "# !git clone https://github.com/IDEA-Research/GroundingDINO.git\n",
    "# %cd {HOME}/GroundingDINO\n",
    "# !git checkout -q 57535c5a79791cb76e36fdb64975271354f10251\n",
    "# !pip install -q -e .\n",
    "\n",
    "# %cd {HOME}\n",
    "# import sys\n",
    "# !{sys.executable} -m pip install 'git+https://github.com/facebookresearch/segment-anything.git'\n",
    "\n",
    "# !pip uninstall -y supervision\n",
    "# !pip install -q supervision==0.6.0\n",
    "\n",
    "# import supervision as sv\n",
    "# print(sv.__version__)\n",
    "\n",
    "\n",
    "# %cd {HOME}\n",
    "# !mkdir -p {HOME}/weights\n",
    "# %cd {HOME}/weights\n",
    "# !wget -q https://github.com/IDEA-Research/GroundingDINO/releases/download/v0.1.0-alpha/groundingdino_swint_ogc.pth\n",
    "\n",
    "# %cd {HOME}\n",
    "# !mkdir -p {HOME}/weights\n",
    "# %cd {HOME}/weights\n",
    "# !wget -q https://dl.fbaipublicfiles.com/segment_anything/sam_vit_h_4b8939.pth"
   ]
  }
 ],
 "metadata": {
  "kernelspec": {
   "display_name": "Python 3 (ipykernel)",
   "language": "python",
   "name": "python3"
  },
  "language_info": {
   "codemirror_mode": {
    "name": "ipython",
    "version": 3
   },
   "file_extension": ".py",
   "mimetype": "text/x-python",
   "name": "python",
   "nbconvert_exporter": "python",
   "pygments_lexer": "ipython3",
   "version": "3.7.11"
  }
 },
 "nbformat": 4,
 "nbformat_minor": 5
}
